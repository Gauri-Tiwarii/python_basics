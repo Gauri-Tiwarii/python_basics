{
 "cells": [
  {
   "cell_type": "code",
   "execution_count": 2,
   "id": "8eefa6a3-6761-4601-9f43-f6fed3c32c91",
   "metadata": {},
   "outputs": [],
   "source": [
    "'''\n",
    "Ques 1. Explain the key features of Python that make it a popular choice for programming\n",
    "Solution: Key features of python, that make it a popular choice for programming are:\n",
    "A. Readability and Simplicity- It has easy to read syntax.\n",
    "B. Vesatility- In general language, it can be used for programming, data analysis\n",
    "C. Extensive libraries and Framework- It has rich system of libraries, which provide tools for everything.\n",
    "D. Cross Platform Compatibility- It runs on various operating systems such as, Windows, macOS, Linux.\n",
    "E. Interpreted Language- the code can be excuted line-by-line.\n",
    "F. Dynamic typing- The variable types are determined at runtime.\n",
    "'''"
   ]
  },
  {
   "cell_type": "code",
   "execution_count": 14,
   "id": "3b1cd8f4-0b63-41de-bc9c-f1a1f91ad286",
   "metadata": {},
   "outputs": [
    {
     "name": "stdout",
     "output_type": "stream",
     "text": [
      "X is greater than 5\n",
      "0\n",
      "1\n",
      "2\n",
      "3\n",
      "4\n"
     ]
    }
   ],
   "source": [
    "'''\n",
    "Ques 2. Describe the role of predefined keywords in python and provide examples of how they are used in program.\n",
    "Solution: Predefined keywords are the words that have special meaning and purposes:\n",
    "ROLES:\n",
    "A. Control Flow: Keywords like 'if', 'else if', 'elif', 'break', 'continue', are used to control the flow of the program.\n",
    "B. Defining class and functions: Keywords like 'def', and 'class', are used to define the functions and classes respectively.\n",
    "C. Logical Operations: Keywords like 'and', 'or', not', and 'is'i are used for logical operations.\n",
    "D. Data Handling: Keywords like 'import', 'from', 'as', and 'with', are used for importing modules and handling data.\n",
    "'''\n",
    "\n",
    "#Example:\n",
    "X = 10\n",
    "if X > 5:\n",
    "    print (\"X is greater than 5\")\n",
    "else:\n",
    "    print (\"X is smaller than 5\")\n",
    "    \n",
    "#Example:\n",
    "for i in range (5):\n",
    "    print (i)\n",
    "    "
   ]
  },
  {
   "cell_type": "code",
   "execution_count": 4,
   "id": "752c3f82-5231-40ab-a18d-d442fb4c0561",
   "metadata": {},
   "outputs": [
    {
     "name": "stdout",
     "output_type": "stream",
     "text": [
      "{'name': 'Hitendra', 'age': 26}\n",
      "Hello\n",
      "Jello\n"
     ]
    }
   ],
   "source": [
    "'''\n",
    "Ques 3.Compare and contrast mutable and immutable objects in python with examples.\n",
    "Solution: COMPARISON AND CONTRAST:\n",
    "A. Modification: The content of mutable objects can be changed without changing the identity, while in case of immutable objects, and operation that tries to change the content will instead create a new identity.\n",
    "B. Performace: Mutable objects are suitable for data structure that needs to be modified frequently, while immutable objects are generally safer for concurrent operations, as their hash value doesn't change.\n",
    "C. Examples: List, dictionaries and sets are some example of mutable objects, whereas, integers, float, string, and tuples are example of immutable object.\n",
    "'''\n",
    "#Ex of mutable object\n",
    "my_dict = {\"name\": \"Hitendra\", \"age\": 25}\n",
    "my_dict[\"age\"] = 26 #modifying age\n",
    "print (my_dict)\n",
    "\n",
    "#Ex of immutable object\n",
    "my_string = \"Hello\"\n",
    "new_string = my_string.replace(\"H\", \"J\") #New string object\n",
    "print (my_string)\n",
    "print (new_string)\n"
   ]
  },
  {
   "cell_type": "code",
   "execution_count": null,
   "id": "52884ab3-d6ec-4e88-bb24-967659b1c6c9",
   "metadata": {
    "collapsed": true,
    "jupyter": {
     "outputs_hidden": true
    },
    "tags": []
   },
   "outputs": [
    {
     "name": "stdout",
     "output_type": "stream",
     "text": [
      "14\n",
      "0\n"
     ]
    }
   ],
   "source": [
    "'''\n",
    "Ques 4. Discuss the different type of operators in python and example of how they are used.\n",
    "Solution: Different type of operators are:\n",
    "A. Arithmatic (+,-,*,/,%,**)\n",
    "B. Logical (and, or, not)\n",
    "C. Comparison (==, !=, >, <, >=, <=)\n",
    "D. Bitwise- it manipulates individual bit within integer (AND, OR, XOR, NOT, LEFT SHIFT, RIGHT SHIFT)\n",
    "E. Assignment (=, +=, -=, *=, /=)\n",
    "F. Membership (in, not in)\n",
    "G. Identity (is, is not)\n"
   ]
  },
  {
   "cell_type": "code",
   "execution_count": 9,
   "id": "2d09d52f-3488-4cad-8c8a-4cf4545c4567",
   "metadata": {},
   "outputs": [
    {
     "name": "stdout",
     "output_type": "stream",
     "text": [
      "14\n",
      "0\n"
     ]
    }
   ],
   "source": [
    "#Example:\n",
    "#1. Arithmatic Operator:\n",
    "a = 5\n",
    "b = 9\n",
    "print (a + b)\n",
    "\n",
    "x = 8\n",
    "y = 4\n",
    "print (x % y)"
   ]
  },
  {
   "cell_type": "code",
   "execution_count": 10,
   "id": "fd8ec3d8-8f57-4dd9-8a1c-319901a892e4",
   "metadata": {},
   "outputs": [
    {
     "name": "stdout",
     "output_type": "stream",
     "text": [
      "False\n",
      "True\n",
      "False\n"
     ]
    }
   ],
   "source": [
    "#2. Logical Operator:\n",
    "a = True\n",
    "b = False\n",
    "\n",
    "print (a and b)\n",
    "print (a or b)\n",
    "print (not a)\n"
   ]
  },
  {
   "cell_type": "code",
   "execution_count": 11,
   "id": "fb2a863e-8078-4b73-a81e-ca7cb228f139",
   "metadata": {},
   "outputs": [
    {
     "name": "stdout",
     "output_type": "stream",
     "text": [
      "True\n",
      "False\n",
      "False\n",
      "True\n"
     ]
    }
   ],
   "source": [
    "#3. Comparison Operator:\n",
    "a = 10\n",
    "b = 5\n",
    "\n",
    "print (a > b)\n",
    "print (a < b)\n",
    "print (a == b)\n",
    "print (a !=b)"
   ]
  },
  {
   "cell_type": "code",
   "execution_count": 16,
   "id": "1340bbe6-a9c0-4fe9-b653-dd81298bfa1a",
   "metadata": {},
   "outputs": [
    {
     "data": {
      "text/plain": [
       "10"
      ]
     },
     "execution_count": 16,
     "metadata": {},
     "output_type": "execute_result"
    }
   ],
   "source": [
    "#4. Bitwise Operator:\n",
    "10 & 10"
   ]
  },
  {
   "cell_type": "code",
   "execution_count": 17,
   "id": "1737dc6a-1e47-48bc-9d08-f352a9f7138d",
   "metadata": {},
   "outputs": [
    {
     "data": {
      "text/plain": [
       "'0b1010'"
      ]
     },
     "execution_count": 17,
     "metadata": {},
     "output_type": "execute_result"
    }
   ],
   "source": [
    "bin (10)"
   ]
  },
  {
   "cell_type": "code",
   "execution_count": 18,
   "id": "9b21719d-9a01-4b90-95ca-8afc8fb411cf",
   "metadata": {},
   "outputs": [
    {
     "data": {
      "text/plain": [
       "-4"
      ]
     },
     "execution_count": 18,
     "metadata": {},
     "output_type": "execute_result"
    }
   ],
   "source": [
    "~3"
   ]
  },
  {
   "cell_type": "code",
   "execution_count": 19,
   "id": "265dea33-2e53-4580-9e96-9e08b58fd59e",
   "metadata": {},
   "outputs": [
    {
     "data": {
      "text/plain": [
       "6"
      ]
     },
     "execution_count": 19,
     "metadata": {},
     "output_type": "execute_result"
    }
   ],
   "source": [
    "5^3"
   ]
  },
  {
   "cell_type": "code",
   "execution_count": 20,
   "id": "bbe82175-4d6b-44bc-8495-4902c8725836",
   "metadata": {},
   "outputs": [
    {
     "data": {
      "text/plain": [
       "280"
      ]
     },
     "execution_count": 20,
     "metadata": {},
     "output_type": "execute_result"
    }
   ],
   "source": [
    "35<<3"
   ]
  },
  {
   "cell_type": "code",
   "execution_count": 21,
   "id": "58f6ceae-8fb2-4afb-a96a-e259fb69f95c",
   "metadata": {},
   "outputs": [
    {
     "data": {
      "text/plain": [
       "'0b100011000'"
      ]
     },
     "execution_count": 21,
     "metadata": {},
     "output_type": "execute_result"
    }
   ],
   "source": [
    "bin (280)"
   ]
  },
  {
   "cell_type": "code",
   "execution_count": 23,
   "id": "53a4d3e4-6dfb-41d9-9436-7a42a1d5b5d2",
   "metadata": {},
   "outputs": [
    {
     "name": "stdout",
     "output_type": "stream",
     "text": [
      "5\n"
     ]
    }
   ],
   "source": [
    "#5. Assignment operator:\n",
    "a = 2\n",
    "b = 3\n",
    "c = a + b\n",
    "\n",
    "print (c)\n"
   ]
  },
  {
   "cell_type": "code",
   "execution_count": 25,
   "id": "52aaa017-2602-422f-8b47-176a065465d9",
   "metadata": {},
   "outputs": [
    {
     "name": "stdout",
     "output_type": "stream",
     "text": [
      "5\n"
     ]
    }
   ],
   "source": [
    "a = 2\n",
    "b = 3\n",
    "a += b\n",
    "\n",
    "print (a)"
   ]
  },
  {
   "cell_type": "code",
   "execution_count": 26,
   "id": "0b953be3-34b1-4ba9-9661-9ae85db980e4",
   "metadata": {},
   "outputs": [
    {
     "name": "stdout",
     "output_type": "stream",
     "text": [
      "-1\n"
     ]
    }
   ],
   "source": [
    "a = 2\n",
    "b = 3\n",
    "a -= b\n",
    "\n",
    "print (a)"
   ]
  },
  {
   "cell_type": "code",
   "execution_count": 27,
   "id": "879d9b36-3f3e-4496-8a6e-91721eac1fe5",
   "metadata": {},
   "outputs": [
    {
     "name": "stdout",
     "output_type": "stream",
     "text": [
      "2\n"
     ]
    }
   ],
   "source": [
    "a = 2\n",
    "b = 3\n",
    "a %= b\n",
    "\n",
    "print (a)"
   ]
  },
  {
   "cell_type": "code",
   "execution_count": 29,
   "id": "04cba6b5-4d5c-45fd-a35b-368d96b3aa8e",
   "metadata": {},
   "outputs": [
    {
     "name": "stdout",
     "output_type": "stream",
     "text": [
      "True\n",
      "False\n"
     ]
    }
   ],
   "source": [
    "#6. Membership Operator:\n",
    "a = [\"Tuffy\", \"Stuffy\"]\n",
    "print (\"Tuffy\" in a)\n",
    "print (\"Stuffy\" not in a)\n"
   ]
  },
  {
   "cell_type": "code",
   "execution_count": 33,
   "id": "896859f1-b1bd-4611-9204-6a5b7e7081d4",
   "metadata": {},
   "outputs": [
    {
     "data": {
      "text/plain": [
       "False"
      ]
     },
     "execution_count": 33,
     "metadata": {},
     "output_type": "execute_result"
    }
   ],
   "source": [
    "#7. Identity Operator:\n",
    "a = \"Gauri\"\n",
    "b = \"Tiwari\"\n",
    "\n",
    "a is b"
   ]
  },
  {
   "cell_type": "code",
   "execution_count": 34,
   "id": "c6454af6-7ef2-4284-9737-2a9b2e310e9b",
   "metadata": {},
   "outputs": [
    {
     "data": {
      "text/plain": [
       "True"
      ]
     },
     "execution_count": 34,
     "metadata": {},
     "output_type": "execute_result"
    }
   ],
   "source": [
    "a = \"Gauri\"\n",
    "b = \"Tiwari\"\n",
    "\n",
    "b is not a"
   ]
  },
  {
   "cell_type": "code",
   "execution_count": null,
   "id": "3f9bfe60-5a9e-47fc-a2cc-c3cbbf7b6ba4",
   "metadata": {},
   "outputs": [],
   "source": [
    "'''\n",
    "Ques 5. Explain the concept of Type Casting in python with example.\n",
    "Solution: Type casting is the process of converting a value from one data type to another. It is also known as type conversion.\n",
    "It can be done through Int(), Str(), Float()\n",
    "There are two type of Type Casting:\n",
    "1. Implicit: In impilict, python automatically converts one data type to another, during operations involving mixed data type.\n",
    "2. Explicit: In explicit, it is manually done by programmer using functions like 'int ()', 'float ()', 'str ()'.\n",
    "\n"
   ]
  },
  {
   "cell_type": "code",
   "execution_count": 37,
   "id": "a25c66b7-1e63-4033-889f-a9bee5ea3de1",
   "metadata": {},
   "outputs": [
    {
     "name": "stdout",
     "output_type": "stream",
     "text": [
      "15.5\n",
      "<class 'float'>\n"
     ]
    }
   ],
   "source": [
    "#Example: Implicit:\n",
    "\n",
    "a = 10\n",
    "b = 5.5\n",
    "\n",
    "c = a + b\n",
    "\n",
    "print (c)\n",
    "print (type(c))"
   ]
  },
  {
   "cell_type": "code",
   "execution_count": 46,
   "id": "6f9fb60f-57fb-4d23-aab5-6e965d75b55c",
   "metadata": {},
   "outputs": [
    {
     "name": "stdout",
     "output_type": "stream",
     "text": [
      "5\n",
      "<class 'str'>\n"
     ]
    }
   ],
   "source": [
    "#Example: Explicit:\n",
    "\n",
    "a = \"5\"\n",
    "b = int (a)\n",
    "print (a)\n",
    "print (type (a))"
   ]
  },
  {
   "cell_type": "code",
   "execution_count": 45,
   "id": "57b048cf-5a7a-4d9e-be3c-0b50e7ddbe21",
   "metadata": {},
   "outputs": [
    {
     "name": "stdout",
     "output_type": "stream",
     "text": [
      "2.0\n",
      "<class 'float'>\n"
     ]
    }
   ],
   "source": [
    "a = 2\n",
    "b = float (a)\n",
    "print (b)\n",
    "print (type (b))"
   ]
  },
  {
   "cell_type": "code",
   "execution_count": 47,
   "id": "0bbfb943-5958-4af9-9e5a-150c8339c026",
   "metadata": {},
   "outputs": [
    {
     "name": "stdout",
     "output_type": "stream",
     "text": [
      "5\n",
      "<class 'int'>\n"
     ]
    }
   ],
   "source": [
    "a = 5.65\n",
    "b = int (a)\n",
    "print (b)\n",
    "print (type (b))"
   ]
  },
  {
   "cell_type": "code",
   "execution_count": null,
   "id": "4a0dc7f5-d605-4270-b614-fb8d362943a3",
   "metadata": {},
   "outputs": [],
   "source": [
    "'''\n",
    "Ques 6: How do conditional statement work in python? Illustrate with example.\n",
    "Solution: Conditional statements in python are used to execute a block of code based on specific condition.\n",
    "If there is one condition (if statement is used)\n",
    "If there is 2 condition (if else statement is used)\n",
    "If there is more than 2 condition (elif statement is used)\n",
    "If there is conditional statement inside conditional statement to check multiple conditions (nested if else is used)\n"
   ]
  },
  {
   "cell_type": "code",
   "execution_count": 49,
   "id": "5697df88-b5df-4d9a-a983-6224a83f8e40",
   "metadata": {},
   "outputs": [
    {
     "name": "stdout",
     "output_type": "stream",
     "text": [
      "number is greater than 5\n"
     ]
    }
   ],
   "source": [
    "#Example of IF STATEMENT:\n",
    "\n",
    "a = 10\n",
    "\n",
    "if a > 5:\n",
    "    print (\"number is greater than 5\")"
   ]
  },
  {
   "cell_type": "code",
   "execution_count": 51,
   "id": "79190216-e928-4de4-87ef-810352bb7836",
   "metadata": {},
   "outputs": [
    {
     "name": "stdout",
     "output_type": "stream",
     "text": [
      "You are Minor\n"
     ]
    }
   ],
   "source": [
    "#Example of ELSE IF STATEMENT:\n",
    "\n",
    "age = 18\n",
    "\n",
    "if age > 18:\n",
    "    print (\"You are an Adult\")\n",
    "else:\n",
    "        print (\"You are Minor\")"
   ]
  },
  {
   "cell_type": "code",
   "execution_count": 60,
   "id": "75f30d57-abe6-4c10-b83f-a11790154d59",
   "metadata": {},
   "outputs": [
    {
     "name": "stdout",
     "output_type": "stream",
     "text": [
      "The grade is C.\n"
     ]
    }
   ],
   "source": [
    "#Example of ELIF STATEMENT:\n",
    "\n",
    "Percentage = 75\n",
    "\n",
    "if Percentage >= 90:\n",
    "    grade = 'A'\n",
    "elif Percentage >= 80:\n",
    "    grade = 'B'\n",
    "elif Percentage >= 70:\n",
    "    grade = 'C'\n",
    "elif Percentage >= 60:\n",
    "    grade = 'D'\n",
    "else:\n",
    "    grade = 'F'\n",
    "\n",
    "print(f\"The grade is {grade}.\")\n"
   ]
  },
  {
   "cell_type": "code",
   "execution_count": 66,
   "id": "7e62fef8-c168-4f87-b6c3-9a09a18c96f2",
   "metadata": {},
   "outputs": [
    {
     "name": "stdout",
     "output_type": "stream",
     "text": [
      "You need ticket to enter in Concert\n"
     ]
    }
   ],
   "source": [
    "#Example of NESTED IF ELSE STATEMENT:\n",
    "\n",
    "age = 20\n",
    "has_ticket = False\n",
    "\n",
    "if age >= 18:\n",
    "    if has_ticket:\n",
    "        print (\"You are allowed to enter in Concert\")\n",
    "    else:\n",
    "        print (\"You need ticket to enter in Concert\")\n",
    "else:\n",
    "    print (\"You are Minor\")"
   ]
  },
  {
   "cell_type": "code",
   "execution_count": null,
   "id": "2919063a-258d-45ff-acd1-fb3c450e0045",
   "metadata": {
    "tags": []
   },
   "outputs": [],
   "source": [
    "'''\n",
    "Ques 7: Describe the different type of loops in python and their use cases with example.\n",
    "Solution: Loop allows you to execute a block of code repeatedly. There are 2 different types of loop (for and while loop)\n",
    "1. While Loop: repeatedly executes a block of code as long as a specified condition is true.\n",
    "2. For Loop: It executes a block of code for each item in the sequence.\n"
   ]
  },
  {
   "cell_type": "code",
   "execution_count": 72,
   "id": "0ffa49e7-74d0-42db-8633-e5d7ae4bdd95",
   "metadata": {},
   "outputs": [
    {
     "name": "stdout",
     "output_type": "stream",
     "text": [
      "10\n",
      "8\n",
      "6\n",
      "4\n",
      "2\n"
     ]
    }
   ],
   "source": [
    "#Example of WHILE LOOP:\n",
    "\n",
    "n = 10\n",
    "while n > 0:\n",
    "    print (n)\n",
    "    n -=2"
   ]
  },
  {
   "cell_type": "code",
   "execution_count": 72,
   "id": "99f661c6",
   "metadata": {},
   "outputs": [
    {
     "name": "stdout",
     "output_type": "stream",
     "text": [
      "10\n",
      "8\n",
      "6\n",
      "4\n",
      "2\n"
     ]
    }
   ],
   "source": [
    "#Example of WHILE LOOP:\n",
    "\n",
    "n = 10\n",
    "while n > 0:\n",
    "    print (n)\n",
    "    n -=2"
   ]
  },
  {
   "cell_type": "code",
   "execution_count": 73,
   "id": "845a9412",
   "metadata": {},
   "outputs": [
    {
     "name": "stdout",
     "output_type": "stream",
     "text": [
      "0\n",
      "1\n",
      "2\n",
      "3\n",
      "4\n"
     ]
    }
   ],
   "source": [
    "#Example of FOR LOOP:\n",
    "\n",
    "for i in range (5):\n",
    "    print (i)"
   ]
  }
 ],
 "metadata": {
  "kernelspec": {
   "display_name": "Python 3 (ipykernel)",
   "language": "python",
   "name": "python3"
  },
  "language_info": {
   "codemirror_mode": {
    "name": "ipython",
    "version": 3
   },
   "file_extension": ".py",
   "mimetype": "text/x-python",
   "name": "python",
   "nbconvert_exporter": "python",
   "pygments_lexer": "ipython3",
   "version": "3.10.8"
  }
 },
 "nbformat": 4,
 "nbformat_minor": 5
}
